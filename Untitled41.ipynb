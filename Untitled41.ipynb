{
 "cells": [
  {
   "cell_type": "code",
   "execution_count": null,
   "id": "cdc1c72b-b81f-4bf4-bb03-b378f11ab0ed",
   "metadata": {},
   "outputs": [],
   "source": [
    "Q1. Elastic Net Regression is a linear regression technique that combines L1 and L2 regularization, differing from others by balancing feature selection and shrinkage.\n",
    "\n",
    "Q2. Optimal values of regularization parameters are chosen using cross-validation, grid search, or Bayesian optimization to find the best combination of alpha and l1_ratio.\n",
    "\n",
    "Q3. Advantages: balances feature selection and shrinkage, handles multicollinearity; Disadvantages: computationally expensive, requires hyperparameter tuning.\n",
    "\n",
    "Q4. Common use cases: feature selection, handling multicollinearity, predicting continuous outcomes, and identifying important predictors in high-dimensional data.\n",
    "\n",
    "Q5. Coefficients in Elastic Net Regression represent the change in the dependent variable for a one-unit change in the independent variable, with shrinkage and selection.\n",
    "\n",
    "Q6. Handle missing values by imputing them using mean, median, or imputation algorithms, or by using robust regression techniques that can handle missing data.\n",
    "\n",
    "Q7. Use Elastic Net Regression for feature selection by analyzing the coefficients, where features with near-zero coefficients can be removed.\n",
    "\n",
    "Q8. Pickle a trained Elastic Net Regression model using pickle.dump(model, file) and unpickle using pickle.load(file) in Python.\n",
    "\n",
    "Q9. The purpose of pickling a model is to save the trained model to a file, allowing it to be loaded and used later without retraining."
   ]
  }
 ],
 "metadata": {
  "kernelspec": {
   "display_name": "Python 3 (ipykernel)",
   "language": "python",
   "name": "python3"
  },
  "language_info": {
   "codemirror_mode": {
    "name": "ipython",
    "version": 3
   },
   "file_extension": ".py",
   "mimetype": "text/x-python",
   "name": "python",
   "nbconvert_exporter": "python",
   "pygments_lexer": "ipython3",
   "version": "3.10.8"
  }
 },
 "nbformat": 4,
 "nbformat_minor": 5
}
